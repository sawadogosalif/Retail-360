{
 "cells": [
  {
   "cell_type": "code",
   "execution_count": 4,
   "id": "9f4ae8ee-9050-49ea-b82d-c83719562623",
   "metadata": {},
   "outputs": [],
   "source": [
    "weather_by_year_ftp_path = \"pub/data/ghcn/daily/by_year/\"\n",
    "weather_by_year_local_path = \"C:/Users/u32118508/OneDrive - UPEC/Telechargement/Advance Analytics/data_acquisition/data_acquisition/weather/\"\n",
    "\n",
    "weather_stations_ftp_server_file = \"pub/data/ghcn/daily/ghcnd-stations.txt\"\n",
    "weather_stations_local_file = weather_by_year_local_path+\"ghcnd-stations.txt\"\n",
    " \n",
    "start_year = 2012\n",
    "end_year = 2013\n",
    "country = \"FR\"\n",
    "transformed_output_file_URI = weather_by_year_local_path +\"france_weather.sav\""
   ]
  },
  {
   "cell_type": "code",
   "execution_count": 5,
   "id": "d360ae3b-6486-457c-9103-a84dad39c28b",
   "metadata": {},
   "outputs": [],
   "source": [
    "run 00_weather_functions.ipynb"
   ]
  },
  {
   "cell_type": "code",
   "execution_count": 38,
   "id": "2ffa4e54-2d95-4820-b884-8d1960bc022e",
   "metadata": {},
   "outputs": [],
   "source": [
    "from tqdm import tqdm\n",
    "import time \n",
    "import pandas as pd\n",
    "# tqdm.pandas()"
   ]
  },
  {
   "cell_type": "code",
   "execution_count": 42,
   "id": "f6b37925-f4a1-4b98-bec6-783dab7a887c",
   "metadata": {},
   "outputs": [
    {
     "name": "stdout",
     "output_type": "stream",
     "text": [
      "Succsessfully downloaded file: pub/data/ghcn/daily/ghcnd-stations.txt into: C:/Users/u32118508/OneDrive - UPEC/Telechargement/Advance Analytics/data_acquisition/data_acquisition/weather/ghcnd-stations.txt\n",
      "Succsessfully downloaded file: pub/data/ghcn/daily/by_year/2012.csv.gz into: C:/Users/u32118508/OneDrive - UPEC/Telechargement/Advance Analytics/data_acquisition/data_acquisition/weather/2012.csv.gz\n",
      "Succsessfully downloaded file: pub/data/ghcn/daily/by_year/2013.csv.gz into: C:/Users/u32118508/OneDrive - UPEC/Telechargement/Advance Analytics/data_acquisition/data_acquisition/weather/2013.csv.gz\n"
     ]
    }
   ],
   "source": [
    "# running time : 18 mi\n",
    "# Establish ftp connection\n",
    "ftp = get_ncdc_ftp_con()\n",
    "# Download files\n",
    "get_file_from_ftp(ftp, weather_stations_ftp_server_file, weather_stations_local_file)\n",
    "get_weather_by_year(ftp, start_year, end_year, weather_by_year_ftp_path, weather_by_year_local_path)"
   ]
  },
  {
   "cell_type": "code",
   "execution_count": 6,
   "id": "7664f861-e545-4426-a629-98d98a5b5f9e",
   "metadata": {},
   "outputs": [],
   "source": [
    "years = [_ for _ in range(start_year, end_year+1, 1)] \n",
    "france_weather = weather_dp_flow(years, country, \n",
    "                                 weather_stations_local_file, weather_by_year_local_path)\n",
    "france_weather.to_pickle(transformed_output_file_URI) \n",
    "# min 20"
   ]
  },
  {
   "cell_type": "code",
   "execution_count": 7,
   "id": "c39f0758-b526-4d2f-8f9f-0e5b5b133750",
   "metadata": {},
   "outputs": [
    {
     "data": {
      "text/html": [
       "<div>\n",
       "<style scoped>\n",
       "    .dataframe tbody tr th:only-of-type {\n",
       "        vertical-align: middle;\n",
       "    }\n",
       "\n",
       "    .dataframe tbody tr th {\n",
       "        vertical-align: top;\n",
       "    }\n",
       "\n",
       "    .dataframe thead th {\n",
       "        text-align: right;\n",
       "    }\n",
       "</style>\n",
       "<table border=\"1\" class=\"dataframe\">\n",
       "  <thead>\n",
       "    <tr style=\"text-align: right;\">\n",
       "      <th></th>\n",
       "      <th>ID</th>\n",
       "      <th>YEAR_MONTH_DAY</th>\n",
       "      <th>PRCP</th>\n",
       "      <th>SNWD</th>\n",
       "      <th>TAVG</th>\n",
       "      <th>TMAX</th>\n",
       "      <th>TMIN</th>\n",
       "      <th>LATITUDE</th>\n",
       "      <th>LONGITUDE</th>\n",
       "    </tr>\n",
       "  </thead>\n",
       "  <tbody>\n",
       "    <tr>\n",
       "      <th>0</th>\n",
       "      <td>FR000007130</td>\n",
       "      <td>20120101</td>\n",
       "      <td>64.0</td>\n",
       "      <td>NaN</td>\n",
       "      <td>128.0</td>\n",
       "      <td>136.0</td>\n",
       "      <td>119.0</td>\n",
       "      <td>48.0689</td>\n",
       "      <td>-1.7339</td>\n",
       "    </tr>\n",
       "    <tr>\n",
       "      <th>1</th>\n",
       "      <td>FR000007130</td>\n",
       "      <td>20120102</td>\n",
       "      <td>2.0</td>\n",
       "      <td>NaN</td>\n",
       "      <td>75.0</td>\n",
       "      <td>113.0</td>\n",
       "      <td>48.0</td>\n",
       "      <td>48.0689</td>\n",
       "      <td>-1.7339</td>\n",
       "    </tr>\n",
       "    <tr>\n",
       "      <th>2</th>\n",
       "      <td>FR000007130</td>\n",
       "      <td>20120103</td>\n",
       "      <td>28.0</td>\n",
       "      <td>NaN</td>\n",
       "      <td>112.0</td>\n",
       "      <td>139.0</td>\n",
       "      <td>52.0</td>\n",
       "      <td>48.0689</td>\n",
       "      <td>-1.7339</td>\n",
       "    </tr>\n",
       "    <tr>\n",
       "      <th>3</th>\n",
       "      <td>FR000007130</td>\n",
       "      <td>20120104</td>\n",
       "      <td>0.0</td>\n",
       "      <td>NaN</td>\n",
       "      <td>87.0</td>\n",
       "      <td>112.0</td>\n",
       "      <td>45.0</td>\n",
       "      <td>48.0689</td>\n",
       "      <td>-1.7339</td>\n",
       "    </tr>\n",
       "    <tr>\n",
       "      <th>4</th>\n",
       "      <td>FR000007130</td>\n",
       "      <td>20120105</td>\n",
       "      <td>6.0</td>\n",
       "      <td>NaN</td>\n",
       "      <td>108.0</td>\n",
       "      <td>132.0</td>\n",
       "      <td>95.0</td>\n",
       "      <td>48.0689</td>\n",
       "      <td>-1.7339</td>\n",
       "    </tr>\n",
       "  </tbody>\n",
       "</table>\n",
       "</div>"
      ],
      "text/plain": [
       "            ID  YEAR_MONTH_DAY  PRCP  SNWD   TAVG   TMAX   TMIN  LATITUDE  \\\n",
       "0  FR000007130        20120101  64.0   NaN  128.0  136.0  119.0   48.0689   \n",
       "1  FR000007130        20120102   2.0   NaN   75.0  113.0   48.0   48.0689   \n",
       "2  FR000007130        20120103  28.0   NaN  112.0  139.0   52.0   48.0689   \n",
       "3  FR000007130        20120104   0.0   NaN   87.0  112.0   45.0   48.0689   \n",
       "4  FR000007130        20120105   6.0   NaN  108.0  132.0   95.0   48.0689   \n",
       "\n",
       "   LONGITUDE  \n",
       "0    -1.7339  \n",
       "1    -1.7339  \n",
       "2    -1.7339  \n",
       "3    -1.7339  \n",
       "4    -1.7339  "
      ]
     },
     "execution_count": 7,
     "metadata": {},
     "output_type": "execute_result"
    }
   ],
   "source": [
    "france_weather.head()"
   ]
  },
  {
   "cell_type": "code",
   "execution_count": null,
   "id": "c34a996c-ed92-498e-bd4b-c471d0fa6073",
   "metadata": {},
   "outputs": [],
   "source": []
  },
  {
   "cell_type": "code",
   "execution_count": 45,
   "id": "9ce863c9-91ce-410f-9dc4-ea8ce35a1e99",
   "metadata": {},
   "outputs": [
    {
     "data": {
      "text/plain": [
       "((56110, 2), (56110, 9))"
      ]
     },
     "execution_count": 45,
     "metadata": {},
     "output_type": "execute_result"
    }
   ],
   "source": [
    "#check how observations are unique --> by combo of cols ID and Date\n",
    "france_weather[['ID','YEAR_MONTH_DAY']].drop_duplicates().shape, france_weather.shape"
   ]
  },
  {
   "cell_type": "code",
   "execution_count": 49,
   "id": "b7e21f21-265e-4706-8638-d977f98ce84b",
   "metadata": {},
   "outputs": [],
   "source": [
    "pd.set_option('display.float_format', lambda x: '%.2f' % x)"
   ]
  },
  {
   "cell_type": "code",
   "execution_count": 53,
   "id": "a18a645b-c4f9-4840-9c8f-fa7cadf2db87",
   "metadata": {},
   "outputs": [],
   "source": [
    "# PRCP = Precipitation (tenths of mm)\n",
    "# SNOW = Snowfall (mm)                               --> not available in data on Morocco \n",
    "# SNWD = Snow depth (mm)                             --> not available in data on Morocco \n",
    "# TMAX = Maximum temperature (tenths of degrees C)\n",
    "# TMIN = Minimum temperature (tenths of degrees C)"
   ]
  },
  {
   "cell_type": "code",
   "execution_count": 54,
   "id": "4faeaadd-6dce-497c-b726-a79c36d4af71",
   "metadata": {},
   "outputs": [
    {
     "data": {
      "text/html": [
       "<div>\n",
       "<style scoped>\n",
       "    .dataframe tbody tr th:only-of-type {\n",
       "        vertical-align: middle;\n",
       "    }\n",
       "\n",
       "    .dataframe tbody tr th {\n",
       "        vertical-align: top;\n",
       "    }\n",
       "\n",
       "    .dataframe thead th {\n",
       "        text-align: right;\n",
       "    }\n",
       "</style>\n",
       "<table border=\"1\" class=\"dataframe\">\n",
       "  <thead>\n",
       "    <tr style=\"text-align: right;\">\n",
       "      <th></th>\n",
       "      <th>YEAR_MONTH_DAY</th>\n",
       "      <th>PRCP</th>\n",
       "      <th>SNWD</th>\n",
       "      <th>TAVG</th>\n",
       "      <th>TMAX</th>\n",
       "      <th>TMIN</th>\n",
       "      <th>LATITUDE</th>\n",
       "      <th>LONGITUDE</th>\n",
       "    </tr>\n",
       "  </thead>\n",
       "  <tbody>\n",
       "    <tr>\n",
       "      <th>count</th>\n",
       "      <td>56110.00</td>\n",
       "      <td>55820.00</td>\n",
       "      <td>830.00</td>\n",
       "      <td>54611.00</td>\n",
       "      <td>52191.00</td>\n",
       "      <td>47807.00</td>\n",
       "      <td>56110.00</td>\n",
       "      <td>56110.00</td>\n",
       "    </tr>\n",
       "    <tr>\n",
       "      <th>mean</th>\n",
       "      <td>20125630.21</td>\n",
       "      <td>22.35</td>\n",
       "      <td>43.80</td>\n",
       "      <td>118.65</td>\n",
       "      <td>164.61</td>\n",
       "      <td>78.45</td>\n",
       "      <td>46.41</td>\n",
       "      <td>3.51</td>\n",
       "    </tr>\n",
       "    <tr>\n",
       "      <th>std</th>\n",
       "      <td>5009.85</td>\n",
       "      <td>55.32</td>\n",
       "      <td>70.01</td>\n",
       "      <td>69.36</td>\n",
       "      <td>79.10</td>\n",
       "      <td>65.78</td>\n",
       "      <td>2.47</td>\n",
       "      <td>8.37</td>\n",
       "    </tr>\n",
       "    <tr>\n",
       "      <th>min</th>\n",
       "      <td>20120101.00</td>\n",
       "      <td>0.00</td>\n",
       "      <td>10.00</td>\n",
       "      <td>-164.00</td>\n",
       "      <td>-142.00</td>\n",
       "      <td>-208.00</td>\n",
       "      <td>41.92</td>\n",
       "      <td>-5.05</td>\n",
       "    </tr>\n",
       "    <tr>\n",
       "      <th>25%</th>\n",
       "      <td>20120702.00</td>\n",
       "      <td>0.00</td>\n",
       "      <td>10.00</td>\n",
       "      <td>71.00</td>\n",
       "      <td>109.00</td>\n",
       "      <td>33.00</td>\n",
       "      <td>44.12</td>\n",
       "      <td>0.46</td>\n",
       "    </tr>\n",
       "    <tr>\n",
       "      <th>50%</th>\n",
       "      <td>20121229.00</td>\n",
       "      <td>0.00</td>\n",
       "      <td>30.00</td>\n",
       "      <td>118.00</td>\n",
       "      <td>163.00</td>\n",
       "      <td>81.00</td>\n",
       "      <td>46.59</td>\n",
       "      <td>2.87</td>\n",
       "    </tr>\n",
       "    <tr>\n",
       "      <th>75%</th>\n",
       "      <td>20130630.00</td>\n",
       "      <td>18.00</td>\n",
       "      <td>61.00</td>\n",
       "      <td>169.00</td>\n",
       "      <td>222.00</td>\n",
       "      <td>128.00</td>\n",
       "      <td>48.58</td>\n",
       "      <td>5.09</td>\n",
       "    </tr>\n",
       "    <tr>\n",
       "      <th>max</th>\n",
       "      <td>20131231.00</td>\n",
       "      <td>1260.00</td>\n",
       "      <td>1651.00</td>\n",
       "      <td>308.00</td>\n",
       "      <td>399.00</td>\n",
       "      <td>273.00</td>\n",
       "      <td>50.57</td>\n",
       "      <td>70.25</td>\n",
       "    </tr>\n",
       "  </tbody>\n",
       "</table>\n",
       "</div>"
      ],
      "text/plain": [
       "       YEAR_MONTH_DAY     PRCP    SNWD     TAVG     TMAX     TMIN  LATITUDE  \\\n",
       "count        56110.00 55820.00  830.00 54611.00 52191.00 47807.00  56110.00   \n",
       "mean      20125630.21    22.35   43.80   118.65   164.61    78.45     46.41   \n",
       "std           5009.85    55.32   70.01    69.36    79.10    65.78      2.47   \n",
       "min       20120101.00     0.00   10.00  -164.00  -142.00  -208.00     41.92   \n",
       "25%       20120702.00     0.00   10.00    71.00   109.00    33.00     44.12   \n",
       "50%       20121229.00     0.00   30.00   118.00   163.00    81.00     46.59   \n",
       "75%       20130630.00    18.00   61.00   169.00   222.00   128.00     48.58   \n",
       "max       20131231.00  1260.00 1651.00   308.00   399.00   273.00     50.57   \n",
       "\n",
       "       LONGITUDE  \n",
       "count   56110.00  \n",
       "mean        3.51  \n",
       "std         8.37  \n",
       "min        -5.05  \n",
       "25%         0.46  \n",
       "50%         2.87  \n",
       "75%         5.09  \n",
       "max        70.25  "
      ]
     },
     "execution_count": 54,
     "metadata": {},
     "output_type": "execute_result"
    }
   ],
   "source": [
    "france_weather.describe()"
   ]
  }
 ],
 "metadata": {
  "kernelspec": {
   "display_name": "Python 3 (ipykernel)",
   "language": "python",
   "name": "python3"
  },
  "language_info": {
   "codemirror_mode": {
    "name": "ipython",
    "version": 3
   },
   "file_extension": ".py",
   "mimetype": "text/x-python",
   "name": "python",
   "nbconvert_exporter": "python",
   "pygments_lexer": "ipython3",
   "version": "3.9.7"
  }
 },
 "nbformat": 4,
 "nbformat_minor": 5
}
