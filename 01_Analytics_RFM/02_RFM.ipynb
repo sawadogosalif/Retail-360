{
 "cells": [
  {
   "cell_type": "markdown",
   "metadata": {
    "jp-MarkdownHeadingCollapsed": true,
    "tags": []
   },
   "source": [
    "# Init"
   ]
  },
  {
   "cell_type": "markdown",
   "metadata": {
    "tags": []
   },
   "source": [
    "# Output possible d'une segmentation RFM"
   ]
  },
  {
   "cell_type": "markdown",
   "metadata": {
    "tags": []
   },
   "source": [
    "Une segmentaton RFM permet de créer des segments de clientèle exploitables et faciles à comprendre. Ci-dessous la liste des possibilités "
   ]
  },
  {
   "cell_type": "markdown",
   "metadata": {
    "tags": []
   },
   "source": [
    "## Modules"
   ]
  },
  {
   "cell_type": "code",
   "execution_count": 35,
   "metadata": {
    "tags": []
   },
   "outputs": [],
   "source": [
    "import pandas as pd\n",
    "import numpy as np\n",
    "\n",
    "%matplotlib inline\n",
    "import matplotlib.pyplot as plt\n",
    "import seaborn as sns\n",
    "from __future__ import division\n",
    "import plotly.offline as pyoff\n",
    "import plotly.graph_objs as go\n",
    "\n",
    "from lifetimes.utils import summary_data_from_transaction_data"
   ]
  },
  {
   "cell_type": "markdown",
   "metadata": {
    "jp-MarkdownHeadingCollapsed": true,
    "tags": []
   },
   "source": [
    "## Constantes"
   ]
  },
  {
   "cell_type": "markdown",
   "metadata": {
    "tags": []
   },
   "source": [
    "## Fonctions"
   ]
  },
  {
   "cell_type": "code",
   "execution_count": 36,
   "metadata": {},
   "outputs": [],
   "source": [
    "def RFMScore(x,p,d):\n",
    "    \"\"\"\n",
    "    A function for pareto analyis\n",
    "    \n",
    "    Arguments:\n",
    "    d- dataframe with rfm information\n",
    "    x- a number (float)\n",
    "    pq -quantitative columns\n",
    "        \n",
    "    Returns:\n",
    "      an integeer betwen 1 and 4\n",
    "   \"\"\"\n",
    "    if x <= d[p][0.25]:\n",
    "        return 1\n",
    "    elif x <= d[p][0.50]:\n",
    "        return 2\n",
    "    elif x <= d[p][0.75]: \n",
    "        return 3\n",
    "    else:\n",
    "        return 4"
   ]
  },
  {
   "cell_type": "markdown",
   "metadata": {},
   "source": [
    "# Chargement des données"
   ]
  },
  {
   "cell_type": "code",
   "execution_count": 37,
   "metadata": {
    "tags": []
   },
   "outputs": [],
   "source": [
    "sales = pd.read_pickle('intermed/sales.sav')"
   ]
  },
  {
   "cell_type": "markdown",
   "metadata": {},
   "source": [
    "# RFM Analysis"
   ]
  },
  {
   "cell_type": "code",
   "execution_count": 38,
   "metadata": {},
   "outputs": [],
   "source": [
    "# non null customer id\n",
    "sales  = sales [~sales ['customer_Id'].isna()]\n",
    "# Remove negattive quantities and sales\n",
    "sales  = sales[sales ['Qty']>=0]\n",
    "sales  = sales[sales ['total_amt']>=0]"
   ]
  },
  {
   "cell_type": "code",
   "execution_count": 39,
   "metadata": {},
   "outputs": [],
   "source": [
    " # date ware not parse as well. SOMETIMES with / or -\n",
    "sales ['tran_date']=sales ['tran_date'].str.replace('/','-',)\n",
    "sales ['transaction_date']=pd.to_datetime(sales ['tran_date'], format='%d-%m-%Y')\n",
    "sales ['DOB']=pd.to_datetime(sales ['DOB'], format='%d-%m-%Y')"
   ]
  },
  {
   "cell_type": "code",
   "execution_count": 40,
   "metadata": {},
   "outputs": [
    {
     "data": {
      "text/html": [
       "<div>\n",
       "<style scoped>\n",
       "    .dataframe tbody tr th:only-of-type {\n",
       "        vertical-align: middle;\n",
       "    }\n",
       "\n",
       "    .dataframe tbody tr th {\n",
       "        vertical-align: top;\n",
       "    }\n",
       "\n",
       "    .dataframe thead th {\n",
       "        text-align: right;\n",
       "    }\n",
       "</style>\n",
       "<table border=\"1\" class=\"dataframe\">\n",
       "  <thead>\n",
       "    <tr style=\"text-align: right;\">\n",
       "      <th></th>\n",
       "      <th>transaction_id</th>\n",
       "      <th>transaction_date</th>\n",
       "      <th>customer_Id</th>\n",
       "      <th>city_code</th>\n",
       "      <th>prod_cat_code</th>\n",
       "      <th>prod_sub_cat_code</th>\n",
       "      <th>prod_subcat_code</th>\n",
       "      <th>Qty</th>\n",
       "      <th>Rate</th>\n",
       "      <th>Tax</th>\n",
       "      <th>total_amt</th>\n",
       "    </tr>\n",
       "  </thead>\n",
       "  <tbody>\n",
       "    <tr>\n",
       "      <th>0</th>\n",
       "      <td>3268991</td>\n",
       "      <td>2011-08-02</td>\n",
       "      <td>272172</td>\n",
       "      <td>10.0</td>\n",
       "      <td>6</td>\n",
       "      <td>11</td>\n",
       "      <td>11</td>\n",
       "      <td>3</td>\n",
       "      <td>91</td>\n",
       "      <td>28.665</td>\n",
       "      <td>301.665</td>\n",
       "    </tr>\n",
       "    <tr>\n",
       "      <th>1</th>\n",
       "      <td>7073244</td>\n",
       "      <td>2013-05-11</td>\n",
       "      <td>269640</td>\n",
       "      <td>7.0</td>\n",
       "      <td>5</td>\n",
       "      <td>12</td>\n",
       "      <td>12</td>\n",
       "      <td>4</td>\n",
       "      <td>1385</td>\n",
       "      <td>581.700</td>\n",
       "      <td>6121.700</td>\n",
       "    </tr>\n",
       "    <tr>\n",
       "      <th>2</th>\n",
       "      <td>10861359</td>\n",
       "      <td>2013-10-25</td>\n",
       "      <td>272671</td>\n",
       "      <td>7.0</td>\n",
       "      <td>4</td>\n",
       "      <td>4</td>\n",
       "      <td>4</td>\n",
       "      <td>2</td>\n",
       "      <td>103</td>\n",
       "      <td>21.630</td>\n",
       "      <td>227.630</td>\n",
       "    </tr>\n",
       "    <tr>\n",
       "      <th>3</th>\n",
       "      <td>15741026</td>\n",
       "      <td>2011-03-28</td>\n",
       "      <td>271544</td>\n",
       "      <td>5.0</td>\n",
       "      <td>5</td>\n",
       "      <td>12</td>\n",
       "      <td>12</td>\n",
       "      <td>1</td>\n",
       "      <td>299</td>\n",
       "      <td>31.395</td>\n",
       "      <td>330.395</td>\n",
       "    </tr>\n",
       "    <tr>\n",
       "      <th>4</th>\n",
       "      <td>16165359</td>\n",
       "      <td>2013-08-01</td>\n",
       "      <td>273203</td>\n",
       "      <td>2.0</td>\n",
       "      <td>1</td>\n",
       "      <td>4</td>\n",
       "      <td>4</td>\n",
       "      <td>2</td>\n",
       "      <td>580</td>\n",
       "      <td>121.800</td>\n",
       "      <td>1281.800</td>\n",
       "    </tr>\n",
       "  </tbody>\n",
       "</table>\n",
       "</div>"
      ],
      "text/plain": [
       "   transaction_id transaction_date  customer_Id  city_code  prod_cat_code  \\\n",
       "0         3268991       2011-08-02       272172       10.0              6   \n",
       "1         7073244       2013-05-11       269640        7.0              5   \n",
       "2        10861359       2013-10-25       272671        7.0              4   \n",
       "3        15741026       2011-03-28       271544        5.0              5   \n",
       "4        16165359       2013-08-01       273203        2.0              1   \n",
       "\n",
       "   prod_sub_cat_code  prod_subcat_code  Qty  Rate      Tax  total_amt  \n",
       "0                 11                11    3    91   28.665    301.665  \n",
       "1                 12                12    4  1385  581.700   6121.700  \n",
       "2                  4                 4    2   103   21.630    227.630  \n",
       "3                 12                12    1   299   31.395    330.395  \n",
       "4                  4                 4    2   580  121.800   1281.800  "
      ]
     },
     "execution_count": 40,
     "metadata": {},
     "output_type": "execute_result"
    }
   ],
   "source": [
    "sales=sales.groupby(['transaction_id', 'transaction_date']).sum().reset_index()\n",
    "sales.head()"
   ]
  },
  {
   "cell_type": "markdown",
   "metadata": {},
   "source": [
    "## Étape 1 Calcul des valeurs RFM"
   ]
  },
  {
   "cell_type": "code",
   "execution_count": 41,
   "metadata": {},
   "outputs": [],
   "source": [
    "# Ceeate the rfm summary table from litetimes utility function\n",
    "rfm = summary_data_from_transaction_data(sales, 'customer_Id', 'transaction_date', monetary_value_col='total_amt').reset_index()"
   ]
  },
  {
   "cell_type": "markdown",
   "metadata": {},
   "source": [
    "*Récence* : L'âge du client lors de la dernière transaction. Ceci est légèrement différent du RFM vanille où la récence est calculée comme le nombre de jours depuis le dernier achat.\n",
    "\n",
    "*Fréquence* : Le nombre d'achats au cours de la durée de vie du client\n",
    "\n",
    "*Valeur monétaire* : la valeur monétaire moyenne des transactions des clients.\n",
    "\n",
    "*T* : age du clients (pas top important ici)"
   ]
  },
  {
   "cell_type": "code",
   "execution_count": 42,
   "metadata": {},
   "outputs": [
    {
     "data": {
      "text/plain": [
       "<AxesSubplot:>"
      ]
     },
     "execution_count": 42,
     "metadata": {},
     "output_type": "execute_result"
    },
    {
     "data": {
      "image/png": "[encoded data removed]",
      "text/plain": [
       "<Figure size 432x288 with 1 Axes>"
      ]
     },
     "metadata": {
      "needs_background": "light"
     },
     "output_type": "display_data"
    }
   ],
   "source": [
    "rfm.monetary_value.hist(color=\"black\")"
   ]
  },
  {
   "cell_type": "code",
   "execution_count": 43,
   "metadata": {},
   "outputs": [
    {
     "data": {
      "text/plain": [
       "<AxesSubplot:>"
      ]
     },
     "execution_count": 43,
     "metadata": {},
     "output_type": "execute_result"
    },
    {
     "data": {
      "image/png": "[encoded data removed]",
      "text/plain": [
       "<Figure size 432x288 with 1 Axes>"
      ]
     },
     "metadata": {
      "needs_background": "light"
     },
     "output_type": "display_data"
    }
   ],
   "source": [
    "rfm.frequency.hist(color=\"black\")"
   ]
  },
  {
   "cell_type": "code",
   "execution_count": 44,
   "metadata": {},
   "outputs": [
    {
     "data": {
      "text/plain": [
       "<AxesSubplot:>"
      ]
     },
     "execution_count": 44,
     "metadata": {},
     "output_type": "execute_result"
    },
    {
     "data": {
      "image/png": "[encoded data removed]",
      "text/plain": [
       "<Figure size 432x288 with 1 Axes>"
      ]
     },
     "metadata": {
      "needs_background": "light"
     },
     "output_type": "display_data"
    }
   ],
   "source": [
    "rfm.monetary_value.hist(color=\"black\")"
   ]
  },
  {
   "cell_type": "markdown",
   "metadata": {},
   "source": [
    "## Etapes  2  Discretisation des scores rfm"
   ]
  },
  {
   "cell_type": "code",
   "execution_count": 45,
   "metadata": {},
   "outputs": [
    {
     "data": {
      "text/plain": [
       "{'customer_Id': {0.25: 268908.25, 0.5: 271024.5, 0.75: 273171.75},\n",
       " 'frequency': {0.25: 1.0, 0.5: 3.0, 0.75: 4.0},\n",
       " 'recency': {0.25: 338.0, 0.5: 622.0, 0.75: 830.0},\n",
       " 'T': {0.25: 719.0, 0.5: 915.0, 0.75: 1036.75},\n",
       " 'monetary_value': {0.25: 1347.1331249999998,\n",
       "  0.5: 2290.665,\n",
       "  0.75: 3219.8594999999996}}"
      ]
     },
     "execution_count": 45,
     "metadata": {},
     "output_type": "execute_result"
    }
   ],
   "source": [
    "# Create the quartiles scores\n",
    "quantiles = rfm.quantile(q=[0.25,0.5,0.75])\n",
    "quantiles = quantiles.to_dict()\n",
    "    \n",
    "quantiles"
   ]
  },
  {
   "cell_type": "code",
   "execution_count": 46,
   "metadata": {},
   "outputs": [
    {
     "data": {
      "text/html": [
       "<div>\n",
       "<style scoped>\n",
       "    .dataframe tbody tr th:only-of-type {\n",
       "        vertical-align: middle;\n",
       "    }\n",
       "\n",
       "    .dataframe tbody tr th {\n",
       "        vertical-align: top;\n",
       "    }\n",
       "\n",
       "    .dataframe thead th {\n",
       "        text-align: right;\n",
       "    }\n",
       "</style>\n",
       "<table border=\"1\" class=\"dataframe\">\n",
       "  <thead>\n",
       "    <tr style=\"text-align: right;\">\n",
       "      <th></th>\n",
       "      <th>customer_Id</th>\n",
       "      <th>frequency</th>\n",
       "      <th>recency</th>\n",
       "      <th>T</th>\n",
       "      <th>monetary_value</th>\n",
       "      <th>R</th>\n",
       "      <th>F</th>\n",
       "      <th>M</th>\n",
       "    </tr>\n",
       "  </thead>\n",
       "  <tbody>\n",
       "    <tr>\n",
       "      <th>0</th>\n",
       "      <td>266783</td>\n",
       "      <td>3.0</td>\n",
       "      <td>516.0</td>\n",
       "      <td>881.0</td>\n",
       "      <td>1037.963333</td>\n",
       "      <td>2</td>\n",
       "      <td>2</td>\n",
       "      <td>1</td>\n",
       "    </tr>\n",
       "    <tr>\n",
       "      <th>1</th>\n",
       "      <td>266784</td>\n",
       "      <td>2.0</td>\n",
       "      <td>103.0</td>\n",
       "      <td>546.0</td>\n",
       "      <td>707.200000</td>\n",
       "      <td>1</td>\n",
       "      <td>2</td>\n",
       "      <td>1</td>\n",
       "    </tr>\n",
       "    <tr>\n",
       "      <th>2</th>\n",
       "      <td>266785</td>\n",
       "      <td>6.0</td>\n",
       "      <td>870.0</td>\n",
       "      <td>1073.0</td>\n",
       "      <td>3588.487500</td>\n",
       "      <td>4</td>\n",
       "      <td>4</td>\n",
       "      <td>4</td>\n",
       "    </tr>\n",
       "    <tr>\n",
       "      <th>3</th>\n",
       "      <td>266788</td>\n",
       "      <td>3.0</td>\n",
       "      <td>611.0</td>\n",
       "      <td>984.0</td>\n",
       "      <td>1574.993333</td>\n",
       "      <td>2</td>\n",
       "      <td>2</td>\n",
       "      <td>2</td>\n",
       "    </tr>\n",
       "    <tr>\n",
       "      <th>4</th>\n",
       "      <td>266794</td>\n",
       "      <td>9.0</td>\n",
       "      <td>1062.0</td>\n",
       "      <td>1070.0</td>\n",
       "      <td>2839.113333</td>\n",
       "      <td>4</td>\n",
       "      <td>4</td>\n",
       "      <td>3</td>\n",
       "    </tr>\n",
       "  </tbody>\n",
       "</table>\n",
       "</div>"
      ],
      "text/plain": [
       "   customer_Id  frequency  recency       T  monetary_value  R  F  M\n",
       "0       266783        3.0    516.0   881.0     1037.963333  2  2  1\n",
       "1       266784        2.0    103.0   546.0      707.200000  1  2  1\n",
       "2       266785        6.0    870.0  1073.0     3588.487500  4  4  4\n",
       "3       266788        3.0    611.0   984.0     1574.993333  2  2  2\n",
       "4       266794        9.0   1062.0  1070.0     2839.113333  4  4  3"
      ]
     },
     "execution_count": 46,
     "metadata": {},
     "output_type": "execute_result"
    }
   ],
   "source": [
    "rfm['R'] = rfm['recency'].apply(RFMScore, args=('recency',quantiles,))\n",
    "rfm['F'] = rfm['frequency'].apply(RFMScore, args=('frequency',quantiles,))\n",
    "rfm['M'] = rfm['monetary_value'].apply(RFMScore, args=('monetary_value',quantiles,))\n",
    "rfm.head()"
   ]
  },
  {
   "cell_type": "markdown",
   "metadata": {},
   "source": [
    "## Noms generiques des segments"
   ]
  },
  {
   "cell_type": "markdown",
   "metadata": {},
   "source": [
    "Ici, nous concaténons  le score RFM individuel comme des chaînes et obtenons des segments étiquetés en retour.\n",
    "\n",
    "Notre meilleur segment sera 444 et notre pire sera 111 - ce qui signifie le score le plus bas dans les trois catégories RFM."
   ]
  },
  {
   "cell_type": "code",
   "execution_count": 64,
   "metadata": {},
   "outputs": [
    {
     "data": {
      "text/html": [
       "<div>\n",
       "<style scoped>\n",
       "    .dataframe tbody tr th:only-of-type {\n",
       "        vertical-align: middle;\n",
       "    }\n",
       "\n",
       "    .dataframe tbody tr th {\n",
       "        vertical-align: top;\n",
       "    }\n",
       "\n",
       "    .dataframe thead th {\n",
       "        text-align: right;\n",
       "    }\n",
       "</style>\n",
       "<table border=\"1\" class=\"dataframe\">\n",
       "  <thead>\n",
       "    <tr style=\"text-align: right;\">\n",
       "      <th></th>\n",
       "      <th>customer_Id</th>\n",
       "      <th>frequency</th>\n",
       "      <th>recency</th>\n",
       "      <th>T</th>\n",
       "      <th>monetary_value</th>\n",
       "      <th>R</th>\n",
       "      <th>F</th>\n",
       "      <th>M</th>\n",
       "      <th>RFM_Segment</th>\n",
       "      <th>RFM_Score</th>\n",
       "      <th>Segment</th>\n",
       "      <th>Score</th>\n",
       "    </tr>\n",
       "  </thead>\n",
       "  <tbody>\n",
       "    <tr>\n",
       "      <th>0</th>\n",
       "      <td>266783</td>\n",
       "      <td>3.0</td>\n",
       "      <td>516.0</td>\n",
       "      <td>881.0</td>\n",
       "      <td>1037.963333</td>\n",
       "      <td>2</td>\n",
       "      <td>2</td>\n",
       "      <td>1</td>\n",
       "      <td>221</td>\n",
       "      <td>5</td>\n",
       "      <td>Hibernating</td>\n",
       "      <td>Green</td>\n",
       "    </tr>\n",
       "    <tr>\n",
       "      <th>1</th>\n",
       "      <td>266784</td>\n",
       "      <td>2.0</td>\n",
       "      <td>103.0</td>\n",
       "      <td>546.0</td>\n",
       "      <td>707.200000</td>\n",
       "      <td>1</td>\n",
       "      <td>2</td>\n",
       "      <td>1</td>\n",
       "      <td>121</td>\n",
       "      <td>4</td>\n",
       "      <td>Hibernating</td>\n",
       "      <td>Green</td>\n",
       "    </tr>\n",
       "    <tr>\n",
       "      <th>2</th>\n",
       "      <td>266785</td>\n",
       "      <td>6.0</td>\n",
       "      <td>870.0</td>\n",
       "      <td>1073.0</td>\n",
       "      <td>3588.487500</td>\n",
       "      <td>4</td>\n",
       "      <td>4</td>\n",
       "      <td>4</td>\n",
       "      <td>444</td>\n",
       "      <td>12</td>\n",
       "      <td>Champions</td>\n",
       "      <td>Platinum</td>\n",
       "    </tr>\n",
       "    <tr>\n",
       "      <th>3</th>\n",
       "      <td>266788</td>\n",
       "      <td>3.0</td>\n",
       "      <td>611.0</td>\n",
       "      <td>984.0</td>\n",
       "      <td>1574.993333</td>\n",
       "      <td>2</td>\n",
       "      <td>2</td>\n",
       "      <td>2</td>\n",
       "      <td>222</td>\n",
       "      <td>6</td>\n",
       "      <td>Hibernating</td>\n",
       "      <td>Bronze</td>\n",
       "    </tr>\n",
       "    <tr>\n",
       "      <th>4</th>\n",
       "      <td>266794</td>\n",
       "      <td>9.0</td>\n",
       "      <td>1062.0</td>\n",
       "      <td>1070.0</td>\n",
       "      <td>2839.113333</td>\n",
       "      <td>4</td>\n",
       "      <td>4</td>\n",
       "      <td>3</td>\n",
       "      <td>443</td>\n",
       "      <td>11</td>\n",
       "      <td>Champions</td>\n",
       "      <td>Platinum</td>\n",
       "    </tr>\n",
       "  </tbody>\n",
       "</table>\n",
       "</div>"
      ],
      "text/plain": [
       "   customer_Id  frequency  recency       T  monetary_value  R  F  M  \\\n",
       "0       266783        3.0    516.0   881.0     1037.963333  2  2  1   \n",
       "1       266784        2.0    103.0   546.0      707.200000  1  2  1   \n",
       "2       266785        6.0    870.0  1073.0     3588.487500  4  4  4   \n",
       "3       266788        3.0    611.0   984.0     1574.993333  2  2  2   \n",
       "4       266794        9.0   1062.0  1070.0     2839.113333  4  4  3   \n",
       "\n",
       "  RFM_Segment  RFM_Score      Segment     Score  \n",
       "0         221          5  Hibernating     Green  \n",
       "1         121          4  Hibernating     Green  \n",
       "2         444         12    Champions  Platinum  \n",
       "3         222          6  Hibernating    Bronze  \n",
       "4         443         11    Champions  Platinum  "
      ]
     },
     "execution_count": 64,
     "metadata": {},
     "output_type": "execute_result"
    }
   ],
   "source": [
    "# Concat RFM quartile values to create RFM Segments\n",
    "def join_rfm(x): return str(x['R']) + str(x['F']) + str(x['M'])\n",
    "rfm['RFM_Segment'] = rfm.apply(join_rfm, axis=1)\n",
    "rfm.head()"
   ]
  },
  {
   "cell_type": "markdown",
   "metadata": {},
   "source": [
    "## Friendly segments\n",
    "\n",
    "Ici, nous additionnons les scores RFM individuels comme des nombres et obtenons en retour un nombre indiquant le score du client. \n",
    "\n",
    "Le score ira de 3 à 12 et nous pouvons l'utiliser pour créer des catégories étiquetées plus conviviales."
   ]
  },
  {
   "cell_type": "code",
   "execution_count": 63,
   "metadata": {},
   "outputs": [
    {
     "data": {
      "text/html": [
       "<div>\n",
       "<style scoped>\n",
       "    .dataframe tbody tr th:only-of-type {\n",
       "        vertical-align: middle;\n",
       "    }\n",
       "\n",
       "    .dataframe tbody tr th {\n",
       "        vertical-align: top;\n",
       "    }\n",
       "\n",
       "    .dataframe thead th {\n",
       "        text-align: right;\n",
       "    }\n",
       "</style>\n",
       "<table border=\"1\" class=\"dataframe\">\n",
       "  <thead>\n",
       "    <tr style=\"text-align: right;\">\n",
       "      <th></th>\n",
       "      <th>customer_Id</th>\n",
       "      <th>frequency</th>\n",
       "      <th>recency</th>\n",
       "      <th>T</th>\n",
       "      <th>monetary_value</th>\n",
       "      <th>R</th>\n",
       "      <th>F</th>\n",
       "      <th>M</th>\n",
       "      <th>RFM_Segment</th>\n",
       "      <th>RFM_Score</th>\n",
       "      <th>Segment</th>\n",
       "      <th>Score</th>\n",
       "    </tr>\n",
       "  </thead>\n",
       "  <tbody>\n",
       "    <tr>\n",
       "      <th>0</th>\n",
       "      <td>266783</td>\n",
       "      <td>3.0</td>\n",
       "      <td>516.0</td>\n",
       "      <td>881.0</td>\n",
       "      <td>1037.963333</td>\n",
       "      <td>2</td>\n",
       "      <td>2</td>\n",
       "      <td>1</td>\n",
       "      <td>2.02.01.0</td>\n",
       "      <td>5</td>\n",
       "      <td>Hibernating</td>\n",
       "      <td>Green</td>\n",
       "    </tr>\n",
       "    <tr>\n",
       "      <th>1</th>\n",
       "      <td>266784</td>\n",
       "      <td>2.0</td>\n",
       "      <td>103.0</td>\n",
       "      <td>546.0</td>\n",
       "      <td>707.200000</td>\n",
       "      <td>1</td>\n",
       "      <td>2</td>\n",
       "      <td>1</td>\n",
       "      <td>1.02.01.0</td>\n",
       "      <td>4</td>\n",
       "      <td>Hibernating</td>\n",
       "      <td>Green</td>\n",
       "    </tr>\n",
       "    <tr>\n",
       "      <th>2</th>\n",
       "      <td>266785</td>\n",
       "      <td>6.0</td>\n",
       "      <td>870.0</td>\n",
       "      <td>1073.0</td>\n",
       "      <td>3588.487500</td>\n",
       "      <td>4</td>\n",
       "      <td>4</td>\n",
       "      <td>4</td>\n",
       "      <td>4.04.04.0</td>\n",
       "      <td>12</td>\n",
       "      <td>Champions</td>\n",
       "      <td>Platinum</td>\n",
       "    </tr>\n",
       "    <tr>\n",
       "      <th>3</th>\n",
       "      <td>266788</td>\n",
       "      <td>3.0</td>\n",
       "      <td>611.0</td>\n",
       "      <td>984.0</td>\n",
       "      <td>1574.993333</td>\n",
       "      <td>2</td>\n",
       "      <td>2</td>\n",
       "      <td>2</td>\n",
       "      <td>2.02.02.0</td>\n",
       "      <td>6</td>\n",
       "      <td>Hibernating</td>\n",
       "      <td>Bronze</td>\n",
       "    </tr>\n",
       "    <tr>\n",
       "      <th>4</th>\n",
       "      <td>266794</td>\n",
       "      <td>9.0</td>\n",
       "      <td>1062.0</td>\n",
       "      <td>1070.0</td>\n",
       "      <td>2839.113333</td>\n",
       "      <td>4</td>\n",
       "      <td>4</td>\n",
       "      <td>3</td>\n",
       "      <td>4.04.03.0</td>\n",
       "      <td>11</td>\n",
       "      <td>Champions</td>\n",
       "      <td>Platinum</td>\n",
       "    </tr>\n",
       "  </tbody>\n",
       "</table>\n",
       "</div>"
      ],
      "text/plain": [
       "   customer_Id  frequency  recency       T  monetary_value  R  F  M  \\\n",
       "0       266783        3.0    516.0   881.0     1037.963333  2  2  1   \n",
       "1       266784        2.0    103.0   546.0      707.200000  1  2  1   \n",
       "2       266785        6.0    870.0  1073.0     3588.487500  4  4  4   \n",
       "3       266788        3.0    611.0   984.0     1574.993333  2  2  2   \n",
       "4       266794        9.0   1062.0  1070.0     2839.113333  4  4  3   \n",
       "\n",
       "  RFM_Segment  RFM_Score      Segment     Score  \n",
       "0   2.02.01.0          5  Hibernating     Green  \n",
       "1   1.02.01.0          4  Hibernating     Green  \n",
       "2   4.04.04.0         12    Champions  Platinum  \n",
       "3   2.02.02.0          6  Hibernating    Bronze  \n",
       "4   4.04.03.0         11    Champions  Platinum  "
      ]
     },
     "execution_count": 63,
     "metadata": {},
     "output_type": "execute_result"
    }
   ],
   "source": [
    "rfm['RFM_Score'] = rfm[['R','F','M']].sum(axis=1)\n",
    "rfm.head()"
   ]
  },
  {
   "cell_type": "code",
   "execution_count": 49,
   "metadata": {},
   "outputs": [],
   "source": [
    "# Create human friendly RFM labels\n",
    "segt_map = {\n",
    "    r'[1-2][1-2]': 'Hibernating',\n",
    "    r'[1-2][2-3]': 'At risk',\n",
    "    r'[1-2]4': 'Can\\'t loose them',\n",
    "    r'2[1-2]': 'About to sleep',\n",
    "    r'22': 'Need attention',\n",
    "    r'[2-3][3-4]': 'Loyal customers',\n",
    "    r'31': 'Promising',\n",
    "    r'41': 'New customers',\n",
    "    r'[3-4][1-2]': 'Potential loyalists',\n",
    "    r'4[3-4]': 'Champions'\n",
    "}"
   ]
  },
  {
   "cell_type": "code",
   "execution_count": 50,
   "metadata": {},
   "outputs": [],
   "source": [
    "rfm['Segment'] = rfm['R'].map(str) + rfm['F'].map(str)\n",
    "rfm['Segment'] = rfm['Segment'].replace(segt_map, regex=True)"
   ]
  },
  {
   "cell_type": "code",
   "execution_count": 51,
   "metadata": {},
   "outputs": [
    {
     "data": {
      "text/plain": [
       "<AxesSubplot:xlabel='Segment', ylabel='count'>"
      ]
     },
     "execution_count": 51,
     "metadata": {},
     "output_type": "execute_result"
    },
    {
     "data": {
      "image/png": "[encoded data removed]",
      "text/plain": [
       "<Figure size 1080x360 with 1 Axes>"
      ]
     },
     "metadata": {
      "needs_background": "light"
     },
     "output_type": "display_data"
    }
   ],
   "source": [
    "plt.figure(figsize=(15,5))\n",
    "sns.countplot(data = rfm,     x = 'Segment', order = rfm['Segment'].value_counts().index,color = \"black\")"
   ]
  },
  {
   "cell_type": "markdown",
   "metadata": {},
   "source": [
    "Malheureusement, il semble que la plupart de nos clients hibernent, alors nous ferions mieux d'y aller. \n",
    "\n",
    "Du bon côté : Nous avons quelques champions, et aussi quelques clients dans les catégories clients fidèles . \n",
    "\n",
    "Nous ferions mieux de bien nous occuper d'eux."
   ]
  },
  {
   "cell_type": "code",
   "execution_count": 66,
   "metadata": {},
   "outputs": [
    {
     "data": {
      "text/html": [
       "<div>\n",
       "<style scoped>\n",
       "    .dataframe tbody tr th:only-of-type {\n",
       "        vertical-align: middle;\n",
       "    }\n",
       "\n",
       "    .dataframe tbody tr th {\n",
       "        vertical-align: top;\n",
       "    }\n",
       "\n",
       "    .dataframe thead th {\n",
       "        text-align: right;\n",
       "    }\n",
       "</style>\n",
       "<table border=\"1\" class=\"dataframe\">\n",
       "  <thead>\n",
       "    <tr style=\"text-align: right;\">\n",
       "      <th></th>\n",
       "      <th>customer_Id</th>\n",
       "      <th>frequency</th>\n",
       "      <th>recency</th>\n",
       "      <th>T</th>\n",
       "      <th>monetary_value</th>\n",
       "      <th>R</th>\n",
       "      <th>F</th>\n",
       "      <th>M</th>\n",
       "      <th>RFM_Segment</th>\n",
       "      <th>RFM_Score</th>\n",
       "      <th>Segment</th>\n",
       "      <th>Score</th>\n",
       "    </tr>\n",
       "  </thead>\n",
       "  <tbody>\n",
       "    <tr>\n",
       "      <th>0</th>\n",
       "      <td>266783</td>\n",
       "      <td>3.0</td>\n",
       "      <td>516.0</td>\n",
       "      <td>881.0</td>\n",
       "      <td>1037.963333</td>\n",
       "      <td>2</td>\n",
       "      <td>2</td>\n",
       "      <td>1</td>\n",
       "      <td>221</td>\n",
       "      <td>5</td>\n",
       "      <td>Hibernating</td>\n",
       "      <td>Green</td>\n",
       "    </tr>\n",
       "    <tr>\n",
       "      <th>1</th>\n",
       "      <td>266784</td>\n",
       "      <td>2.0</td>\n",
       "      <td>103.0</td>\n",
       "      <td>546.0</td>\n",
       "      <td>707.200000</td>\n",
       "      <td>1</td>\n",
       "      <td>2</td>\n",
       "      <td>1</td>\n",
       "      <td>121</td>\n",
       "      <td>4</td>\n",
       "      <td>Hibernating</td>\n",
       "      <td>Green</td>\n",
       "    </tr>\n",
       "    <tr>\n",
       "      <th>2</th>\n",
       "      <td>266785</td>\n",
       "      <td>6.0</td>\n",
       "      <td>870.0</td>\n",
       "      <td>1073.0</td>\n",
       "      <td>3588.487500</td>\n",
       "      <td>4</td>\n",
       "      <td>4</td>\n",
       "      <td>4</td>\n",
       "      <td>444</td>\n",
       "      <td>12</td>\n",
       "      <td>Champions</td>\n",
       "      <td>Platinum</td>\n",
       "    </tr>\n",
       "    <tr>\n",
       "      <th>3</th>\n",
       "      <td>266788</td>\n",
       "      <td>3.0</td>\n",
       "      <td>611.0</td>\n",
       "      <td>984.0</td>\n",
       "      <td>1574.993333</td>\n",
       "      <td>2</td>\n",
       "      <td>2</td>\n",
       "      <td>2</td>\n",
       "      <td>222</td>\n",
       "      <td>6</td>\n",
       "      <td>Hibernating</td>\n",
       "      <td>Bronze</td>\n",
       "    </tr>\n",
       "    <tr>\n",
       "      <th>4</th>\n",
       "      <td>266794</td>\n",
       "      <td>9.0</td>\n",
       "      <td>1062.0</td>\n",
       "      <td>1070.0</td>\n",
       "      <td>2839.113333</td>\n",
       "      <td>4</td>\n",
       "      <td>4</td>\n",
       "      <td>3</td>\n",
       "      <td>443</td>\n",
       "      <td>11</td>\n",
       "      <td>Champions</td>\n",
       "      <td>Platinum</td>\n",
       "    </tr>\n",
       "  </tbody>\n",
       "</table>\n",
       "</div>"
      ],
      "text/plain": [
       "   customer_Id  frequency  recency       T  monetary_value  R  F  M  \\\n",
       "0       266783        3.0    516.0   881.0     1037.963333  2  2  1   \n",
       "1       266784        2.0    103.0   546.0      707.200000  1  2  1   \n",
       "2       266785        6.0    870.0  1073.0     3588.487500  4  4  4   \n",
       "3       266788        3.0    611.0   984.0     1574.993333  2  2  2   \n",
       "4       266794        9.0   1062.0  1070.0     2839.113333  4  4  3   \n",
       "\n",
       "  RFM_Segment  RFM_Score      Segment     Score  \n",
       "0         221          5  Hibernating     Green  \n",
       "1         121          4  Hibernating     Green  \n",
       "2         444         12    Champions  Platinum  \n",
       "3         222          6  Hibernating    Bronze  \n",
       "4         443         11    Champions  Platinum  "
      ]
     },
     "execution_count": 66,
     "metadata": {},
     "output_type": "execute_result"
    }
   ],
   "source": [
    "# Create some human friendly labels for the scores\n",
    "rfm['Score'] = 'Green'\n",
    "rfm.loc[rfm['RFM_Score']>5,'Score'] = 'Bronze' \n",
    "rfm.loc[rfm['RFM_Score']>7,'Score'] = 'Silver' \n",
    "rfm.loc[rfm['RFM_Score']>9,'Score'] = 'Gold' \n",
    "rfm.loc[rfm['RFM_Score']>10,'Score'] = 'Platinum'\n",
    "rfm.head()"
   ]
  },
  {
   "cell_type": "code",
   "execution_count": 65,
   "metadata": {},
   "outputs": [
    {
     "data": {
      "text/plain": [
       "<AxesSubplot:xlabel='Score', ylabel='count'>"
      ]
     },
     "execution_count": 65,
     "metadata": {},
     "output_type": "execute_result"
    },
    {
     "data": {
      "image/png": "[encoded data removed]",
      "text/plain": [
       "<Figure size 432x288 with 1 Axes>"
      ]
     },
     "metadata": {},
     "output_type": "display_data"
    }
   ],
   "source": [
    "sns.set(style='darkgrid')\n",
    "sns.countplot(data = rfm,  x = 'Score', order = rfm['Score'].value_counts().index,color = \"black\")"
   ]
  },
  {
   "cell_type": "markdown",
   "metadata": {},
   "source": [
    "Peu de clients parmi les plus précieux et beaucoup de clients qui ont besoin d'attention et de réactivation. Mieux vaut se mettre au travail.\n"
   ]
  }
 ],
 "metadata": {
  "kernelspec": {
   "display_name": "Python 3 (ipykernel)",
   "language": "python",
   "name": "python3"
  },
  "language_info": {
   "codemirror_mode": {
    "name": "ipython",
    "version": 3
   },
   "file_extension": ".py",
   "mimetype": "text/x-python",
   "name": "python",
   "nbconvert_exporter": "python",
   "pygments_lexer": "ipython3",
   "version": "3.9.7"
  }
 },
 "nbformat": 4,
 "nbformat_minor": 4
}
